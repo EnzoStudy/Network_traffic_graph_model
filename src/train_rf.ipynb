{
 "cells": [
  {
   "cell_type": "code",
   "execution_count": 1,
   "metadata": {},
   "outputs": [
    {
     "name": "stdout",
     "output_type": "stream",
     "text": [
      "/home/dev/src\n",
      "train_data label rate  Label\n",
      "PortScan    127144\n",
      "BENIGN      102029\n",
      "Name: count, dtype: int64\n",
      "\n",
      "test_data label rate  Label\n",
      "PortScan    31786\n",
      "BENIGN      25508\n",
      "Name: count, dtype: int64\n"
     ]
    }
   ],
   "source": [
    "\"\"\"\"\n",
    "Experiment to check how a Random Forest Classifier reacts against\n",
    "modifications in the synthetic testing datasets.\n",
    "\"\"\"\n",
    "\n",
    "import torch\n",
    "from data import load_csv_to_df, train_test_split_stratify\n",
    "from graph import get_flow_features_values, get_encoded_label\n",
    "import configparser\n",
    "from sklearn.ensemble import RandomForestClassifier\n",
    "from data import modify_portscan_attack_behavior\n",
    "import os\n",
    "import metrics\n",
    "\n",
    "source_code_dir = '/home/dev/src'\n",
    "\n",
    "print(os.getcwd())\n",
    "\n",
    "config = configparser.ConfigParser()\n",
    "config.read(source_code_dir+\"/config.ini\")\n",
    "\n",
    "model = RandomForestClassifier()\n",
    "\n",
    "data = load_csv_to_df(\n",
    "    config[\"PARAMETERS\"][\"DataFolderPath\"] + config[\"PARAMETERS\"][\"TrainFile\"])\n",
    "\n",
    "# test = load_csv_to_df(\n",
    "#     config[\"PARAMETERS\"][\"DataFolderPath\"] + config[\"PARAMETERS\"][\"EvalFile\"])\n",
    "\n",
    "# 데이터 셋 분리 \n",
    "train,test  = train_test_split_stratify(data,0.3)\n",
    "\n",
    "print('train_data label rate',train[' Label'].value_counts())\n",
    "print()\n",
    "print('test_data label rate',test[' Label'].value_counts())\n",
    "\n",
    "\n",
    "\n"
   ]
  },
  {
   "cell_type": "code",
   "execution_count": 2,
   "metadata": {},
   "outputs": [],
   "source": [
    "\n",
    "labels_map = {\"BENIGN\": 0, \"PortScan\": 1}\n",
    "labels = [\"BENIGN\", \"PortScan\"]\n",
    "\n",
    "flow_features = [    \n",
    "    \" Flow Duration\",\n",
    "    \" Flow Packets/s\",\n",
    "    \" Flow IAT Mean\",\n",
    "    \" Fwd IAT Mean\",\n",
    "    \" Bwd IAT Mean\",]\n",
    "\n",
    "# flow_features = [\n",
    "#     \" Average Packet Size\",\n",
    "#     \" Flow IAT Mean\",\n",
    "#     \" Flow Duration\",\n",
    "# ]\n",
    "\n",
    "\n",
    "test = modify_portscan_attack_behavior(test)\n"
   ]
  },
  {
   "cell_type": "code",
   "execution_count": 4,
   "metadata": {},
   "outputs": [],
   "source": [
    "# train vectors\n",
    "x_train = []\n",
    "y_train = []\n",
    "for _, row in train.iterrows():\n",
    "    x_train.append(get_flow_features_values(row, flow_features))\n",
    "    y_train.append(get_encoded_label(\n",
    "        row, labels_map))\n",
    "\n",
    "x_train = torch.FloatTensor(x_train)\n",
    "y_train = torch.LongTensor(y_train)\n",
    "\n",
    "# test vectors\n",
    "x_test = []\n",
    "y_test = []\n",
    "for _, row in test.iterrows():\n",
    "    x_test.append(get_flow_features_values(row, flow_features))\n",
    "    y_test.append(get_encoded_label(\n",
    "        row, labels_map))\n",
    "\n",
    "x_test = torch.FloatTensor(x_test)\n",
    "y_test = torch.LongTensor(y_test)\n",
    "\n"
   ]
  },
  {
   "cell_type": "code",
   "execution_count": 5,
   "metadata": {},
   "outputs": [
    {
     "data": {
      "text/plain": [
       "tensor([[6.2496e+04, 6.4004e+01, 2.0832e+04, 1.0000e+00, 3.0000e+00],\n",
       "        [1.3000e+01, 1.5385e+05, 1.3000e+01, 0.0000e+00, 0.0000e+00],\n",
       "        [1.7200e+02, 2.3256e+04, 5.7333e+01, 4.0000e+00, 4.0000e+00],\n",
       "        ...,\n",
       "        [2.2000e+01, 9.0909e+04, 2.2000e+01, 0.0000e+00, 0.0000e+00],\n",
       "        [2.1000e+01, 9.5238e+04, 2.1000e+01, 0.0000e+00, 0.0000e+00],\n",
       "        [4.9000e+01, 4.0816e+04, 4.9000e+01, 0.0000e+00, 0.0000e+00]])"
      ]
     },
     "execution_count": 5,
     "metadata": {},
     "output_type": "execute_result"
    }
   ],
   "source": [
    "x_train"
   ]
  },
  {
   "cell_type": "markdown",
   "metadata": {},
   "source": [
    "## Model Train"
   ]
  },
  {
   "cell_type": "code",
   "execution_count": 6,
   "metadata": {},
   "outputs": [
    {
     "name": "stdout",
     "output_type": "stream",
     "text": [
      "Training model...\n",
      "Evaluating model...\n",
      "0.9628058784514958\n"
     ]
    }
   ],
   "source": [
    "\n",
    "print(\"Training model...\")\n",
    "model.fit(x_train, y_train)\n",
    "print(\"Evaluating model...\")\n",
    "\n",
    "print(model.score(x_test, y_test))"
   ]
  },
  {
   "cell_type": "code",
   "execution_count": 12,
   "metadata": {},
   "outputs": [
    {
     "data": {
      "text/plain": [
       "{'F1 Score': 0.962571317519216,\n",
       " 'Accuracy': 0.9633249700010909,\n",
       " 'Recall': 0.9592951347120982,\n",
       " 'Precision': 0.9679822953069751}"
      ]
     },
     "execution_count": 12,
     "metadata": {},
     "output_type": "execute_result"
    }
   ],
   "source": [
    "import metrics\n",
    "pred = model.predict(x_test)\n",
    "metrics.compute_metrics(y_test, pred)"
   ]
  },
  {
   "cell_type": "code",
   "execution_count": 16,
   "metadata": {},
   "outputs": [
    {
     "name": "stdout",
     "output_type": "stream",
     "text": [
      "[0.33039408 0.21048697 0.09912883 0.31883575 0.04115436] \n",
      "\n",
      " Flow Duration     0.330394\n",
      " Fwd IAT Mean      0.318836\n",
      " Flow Packets/s    0.210487\n",
      " Flow IAT Mean     0.099129\n",
      " Bwd IAT Mean      0.041154\n",
      "dtype: float64\n"
     ]
    },
    {
     "name": "stderr",
     "output_type": "stream",
     "text": [
      "/opt/conda/lib/python3.10/site-packages/seaborn/_oldcore.py:1498: FutureWarning: is_categorical_dtype is deprecated and will be removed in a future version. Use isinstance(dtype, CategoricalDtype) instead\n",
      "  if pd.api.types.is_categorical_dtype(vector):\n",
      "/opt/conda/lib/python3.10/site-packages/seaborn/_oldcore.py:1498: FutureWarning: is_categorical_dtype is deprecated and will be removed in a future version. Use isinstance(dtype, CategoricalDtype) instead\n",
      "  if pd.api.types.is_categorical_dtype(vector):\n",
      "/opt/conda/lib/python3.10/site-packages/seaborn/_oldcore.py:1498: FutureWarning: is_categorical_dtype is deprecated and will be removed in a future version. Use isinstance(dtype, CategoricalDtype) instead\n",
      "  if pd.api.types.is_categorical_dtype(vector):\n"
     ]
    },
    {
     "data": {
      "image/png": "[encoded data removed]",
      "text/plain": [
       "<Figure size 800x600 with 1 Axes>"
      ]
     },
     "metadata": {},
     "output_type": "display_data"
    }
   ],
   "source": [
    "import matplotlib.pyplot as plt\n",
    "import seaborn as sns\n",
    "import pandas as pd\n",
    "\n",
    "rf = model\n",
    "\n",
    "# 그냥 확인하기에 피쳐종류가 30개나 되어 한눈에 들어오지 않는다.\n",
    "print(rf.feature_importances_, '\\n')\n",
    "\n",
    "# 시리즈로 만들어 인덱스를 붙인다\n",
    "ser = pd.Series(rf.feature_importances_, index=flow_features)\n",
    "\n",
    "# 내림차순 정렬을 이용한다\n",
    "top15 = ser.sort_values(ascending=False)[:15]\n",
    "print(top15)\n",
    "\n",
    "\n",
    "plt.figure(figsize=(8,6))\n",
    "plt.title('Feature Importances Top 15')\n",
    "sns.barplot(x=top15, y=top15.index)\n",
    "plt.show()"
   ]
  },
  {
   "cell_type": "code",
   "execution_count": null,
   "metadata": {},
   "outputs": [],
   "source": []
  }
 ],
 "metadata": {
  "kernelspec": {
   "display_name": "base",
   "language": "python",
   "name": "python3"
  },
  "language_info": {
   "codemirror_mode": {
    "name": "ipython",
    "version": 3
   },
   "file_extension": ".py",
   "mimetype": "text/x-python",
   "name": "python",
   "nbconvert_exporter": "python",
   "pygments_lexer": "ipython3",
   "version": "3.10.11"
  },
  "orig_nbformat": 4
 },
 "nbformat": 4,
 "nbformat_minor": 2
}
